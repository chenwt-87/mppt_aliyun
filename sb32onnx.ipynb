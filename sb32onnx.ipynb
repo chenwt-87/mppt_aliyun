{
 "cells": [
  {
   "cell_type": "code",
   "execution_count": 33,
   "id": "20ebd14c-b905-4812-9c1a-8166ac31fc10",
   "metadata": {},
   "outputs": [
    {
     "name": "stdout",
     "output_type": "stream",
     "text": [
      "================ Diagnostic Run torch.onnx.export version 2.0.1 ================\n",
      "verbose: False, log level: Level.ERROR\n",
      "======================= 0 NONE 0 NOTE 0 WARNING 0 ERROR ========================\n",
      "\n"
     ]
    }
   ],
   "source": [
    "import stable_baselines3 as sb3\n",
    "import os\n",
    "import torch as th\n",
    "export_onnx_file = \"SB3_RL_MPPT.onnx\"\n",
    "\n",
    "AGENT_CKP_PATH_3 = os.path.join(\"models\", \"02_mppt_a2c.tar\")\n",
    "class OnnxablePolicy(th.nn.Module):\n",
    "    def __init__(self, extractor, action_net, value_net):\n",
    "        super().__init__()\n",
    "        self.extractor = extractor\n",
    "        self.action_net = action_net\n",
    "        self.value_net = value_net\n",
    "\n",
    "    def forward(self, observation):\n",
    "        # NOTE: You may have to process (normalize) observation in the correct\n",
    "        #       way before using this. See `common.preprocessing.preprocess_obs`\n",
    "        action_hidden, value_hidden = self.extractor(observation)\n",
    "        return self.action_net(action_hidden), self.value_net(value_hidden)\n",
    "\n",
    "\n",
    "# Example: model = PPO(\"MlpPolicy\", \"Pendulum-v1\")\n",
    "model = sb3.A2C.load(AGENT_CKP_PATH_3, device=\"cpu\")\n",
    "onnxable_model = OnnxablePolicy(\n",
    "    model.policy.mlp_extractor, model.policy.action_net, model.policy.value_net\n",
    ")\n",
    "\n",
    "observation_size = model.observation_space.shape\n",
    "dummy_input = th.randn(1, *observation_size)\n",
    "th.onnx.export(\n",
    "    onnxable_model,\n",
    "    dummy_input,\n",
    "    \"my_a2c_model.onnx\",\n",
    "    opset_version=9,\n",
    "    input_names=[\"input\"],\n",
    ")\n"
   ]
  },
  {
   "cell_type": "code",
   "execution_count": 34,
   "id": "78fd1540-97ab-4e61-9aa1-8a9129a592ed",
   "metadata": {},
   "outputs": [
    {
     "data": {
      "text/plain": [
       "odict_keys(['mlp_extractor.shared_net.0.weight', 'mlp_extractor.shared_net.0.bias', 'mlp_extractor.policy_net.0.weight', 'mlp_extractor.policy_net.0.bias', 'mlp_extractor.policy_net.2.weight', 'mlp_extractor.policy_net.2.bias', 'mlp_extractor.value_net.0.weight', 'mlp_extractor.value_net.0.bias', 'action_net.weight', 'action_net.bias', 'value_net.weight', 'value_net.bias'])"
      ]
     },
     "execution_count": 34,
     "metadata": {},
     "output_type": "execute_result"
    }
   ],
   "source": [
    "model.get_parameters()['policy'].keys()"
   ]
  },
  {
   "cell_type": "code",
   "execution_count": 35,
   "id": "6d95621c-0730-40d9-85ec-02db6a70cc33",
   "metadata": {},
   "outputs": [
    {
     "data": {
      "text/plain": [
       "ActorCriticPolicy(\n",
       "  (features_extractor): FlattenExtractor(\n",
       "    (flatten): Flatten(start_dim=1, end_dim=-1)\n",
       "  )\n",
       "  (mlp_extractor): MlpExtractor(\n",
       "    (shared_net): Sequential(\n",
       "      (0): Linear(in_features=2, out_features=128, bias=True)\n",
       "      (1): SELU()\n",
       "    )\n",
       "    (policy_net): Sequential(\n",
       "      (0): Linear(in_features=128, out_features=128, bias=True)\n",
       "      (1): SELU()\n",
       "      (2): Linear(in_features=128, out_features=15, bias=True)\n",
       "      (3): SELU()\n",
       "    )\n",
       "    (value_net): Sequential(\n",
       "      (0): Linear(in_features=128, out_features=128, bias=True)\n",
       "      (1): SELU()\n",
       "    )\n",
       "  )\n",
       "  (action_net): Linear(in_features=15, out_features=15, bias=True)\n",
       "  (value_net): Linear(in_features=128, out_features=1, bias=True)\n",
       ")"
      ]
     },
     "execution_count": 35,
     "metadata": {},
     "output_type": "execute_result"
    }
   ],
   "source": [
    "model.policy"
   ]
  },
  {
   "cell_type": "code",
   "execution_count": 21,
   "id": "8da3f70b-1c77-4163-8cbe-3c9c64409a70",
   "metadata": {},
   "outputs": [
    {
     "data": {
      "text/plain": [
       "torch.Size([15, 15])"
      ]
     },
     "execution_count": 21,
     "metadata": {},
     "output_type": "execute_result"
    }
   ],
   "source": [
    "model.get_parameters()['policy']['action_net.weight'].shape"
   ]
  },
  {
   "cell_type": "code",
   "execution_count": 22,
   "id": "7d3126c6-efd4-4372-9af4-3f6938f0beb9",
   "metadata": {},
   "outputs": [
    {
     "data": {
      "text/plain": [
       "torch.Size([1, 128])"
      ]
     },
     "execution_count": 22,
     "metadata": {},
     "output_type": "execute_result"
    }
   ],
   "source": [
    "model.get_parameters()['policy']['value_net.weight'].shape"
   ]
  },
  {
   "cell_type": "code",
   "execution_count": 26,
   "id": "63ab2c05-8283-49ae-a084-509437b72520",
   "metadata": {},
   "outputs": [
    {
     "data": {
      "text/plain": [
       "torch.Size([128, 128])"
      ]
     },
     "execution_count": 26,
     "metadata": {},
     "output_type": "execute_result"
    }
   ],
   "source": [
    "model.get_parameters()['policy']['mlp_extractor.policy_net.0.weight'].shape"
   ]
  },
  {
   "cell_type": "code",
   "execution_count": 28,
   "id": "7e86b4d4-9e93-46be-8b4d-4df0d1ad348c",
   "metadata": {},
   "outputs": [
    {
     "data": {
      "text/plain": [
       "torch.Size([15, 128])"
      ]
     },
     "execution_count": 28,
     "metadata": {},
     "output_type": "execute_result"
    }
   ],
   "source": [
    "model.get_parameters()['policy']['mlp_extractor.policy_net.2.weight'].shape"
   ]
  },
  {
   "cell_type": "code",
   "execution_count": 36,
   "id": "6e0773b6-86dc-4342-b13a-77233785a298",
   "metadata": {},
   "outputs": [],
   "source": [
    "import numpy as np\n",
    "my_actions = np.array([-25, -15, -10, -5, -3, -2, -1, 0, 1, 2, 3, 5, 10, 15, 25]) / 56"
   ]
  },
  {
   "cell_type": "code",
   "execution_count": 37,
   "id": "09ab79cc-fe99-4fcf-9b99-eed1a9f987fa",
   "metadata": {},
   "outputs": [
    {
     "data": {
      "text/plain": [
       "(15,)"
      ]
     },
     "execution_count": 37,
     "metadata": {},
     "output_type": "execute_result"
    }
   ],
   "source": [
    "my_actions.shape"
   ]
  },
  {
   "cell_type": "code",
   "execution_count": 38,
   "id": "4f6502d4-8103-4923-bb3e-14c9ae57d84e",
   "metadata": {},
   "outputs": [],
   "source": [
    "\n",
    "my_actions = np.array([-25, -15, -10, -5, -3, -2, -1, 0, 1, 2, 3, 5, 10, 15, 25]) / 56"
   ]
  },
  {
   "cell_type": "code",
   "execution_count": 39,
   "id": "adfa0572-34dd-49b4-87ba-9b89165c3c41",
   "metadata": {},
   "outputs": [
    {
     "data": {
      "text/plain": [
       "(15,)"
      ]
     },
     "execution_count": 39,
     "metadata": {},
     "output_type": "execute_result"
    }
   ],
   "source": [
    "my_actions.shape"
   ]
  },
  {
   "cell_type": "code",
   "execution_count": null,
   "id": "29cc62c6-c57e-47f5-bcf4-66b129416b06",
   "metadata": {},
   "outputs": [],
   "source": []
  }
 ],
 "metadata": {
  "kernelspec": {
   "display_name": "RL_VPP",
   "language": "python",
   "name": "rl_vpp"
  },
  "language_info": {
   "codemirror_mode": {
    "name": "ipython",
    "version": 3
   },
   "file_extension": ".py",
   "mimetype": "text/x-python",
   "name": "python",
   "nbconvert_exporter": "python",
   "pygments_lexer": "ipython3",
   "version": "3.8.9"
  }
 },
 "nbformat": 4,
 "nbformat_minor": 5
}
